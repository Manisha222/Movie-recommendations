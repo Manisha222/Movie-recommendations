{
 "cells": [
  {
   "cell_type": "code",
   "execution_count": 1,
   "metadata": {},
   "outputs": [
    {
     "name": "stdout",
     "output_type": "stream",
     "text": [
      " * Serving Flask app '__main__'\n",
      " * Debug mode: on\n"
     ]
    },
    {
     "name": "stderr",
     "output_type": "stream",
     "text": [
      "WARNING: This is a development server. Do not use it in a production deployment. Use a production WSGI server instead.\n",
      " * Running on http://127.0.0.1:5000\n",
      "Press CTRL+C to quit\n",
      " * Restarting with stat\n"
     ]
    },
    {
     "ename": "SystemExit",
     "evalue": "1",
     "output_type": "error",
     "traceback": [
      "An exception has occurred, use %tb to see the full traceback.\n",
      "\u001b[1;31mSystemExit\u001b[0m\u001b[1;31m:\u001b[0m 1\n"
     ]
    },
    {
     "name": "stderr",
     "output_type": "stream",
     "text": [
      "C:\\Users\\dell\\AppData\\Local\\Packages\\PythonSoftwareFoundation.Python.3.11_qbz5n2kfra8p0\\LocalCache\\local-packages\\Python311\\site-packages\\IPython\\core\\interactiveshell.py:3585: UserWarning: To exit: use 'exit', 'quit', or Ctrl-D.\n",
      "  warn(\"To exit: use 'exit', 'quit', or Ctrl-D.\", stacklevel=1)\n"
     ]
    }
   ],
   "source": [
    "from flask import Flask, request, render_template\n",
    "import pandas as pd\n",
    "from sklearn.metrics.pairwise import cosine_similarity\n",
    "from sklearn.feature_extraction.text import CountVectorizer\n",
    "\n",
    "app = Flask(__name__)\n",
    "\n",
    "# Load movies data\n",
    "movies = pd.read_csv('https://raw.githubusercontent.com/codeheroku/Introduction-to-Machine-Learning/master/Building%20a%20Movie%20Recommendation%20Engine/movie_dataset.csv')\n",
    "\n",
    "# Select features for recommendation (you can adjust this based on your dataset)\n",
    "features = ['keywords', 'cast', 'genres', 'director']\n",
    "\n",
    "# Fill NaN values with empty string\n",
    "for feature in features:\n",
    "    movies[feature] = movies[feature].fillna('')\n",
    "\n",
    "# Function to combine the selected features into a single string\n",
    "def combine_features(row):\n",
    "    return row['keywords'] + ' ' + row['cast'] + ' ' + row['genres'] + ' ' + row['director']\n",
    "\n",
    "# Apply function to create a new 'combined_features' column\n",
    "movies['combined_features'] = movies.apply(combine_features, axis=1)\n",
    "\n",
    "# Create a count matrix from the combined features column\n",
    "cv = CountVectorizer()\n",
    "count_matrix = cv.fit_transform(movies['combined_features'])\n",
    "\n",
    "# Compute cosine similarity based on the count matrix\n",
    "cosine_sim = cosine_similarity(count_matrix)\n",
    "\n",
    "# Function to get movie recommendations based on title\n",
    "def get_recommendations(title, cosine_sim):\n",
    "    # Get index of the movie that matches the title\n",
    "    idx = movies[movies['title'].str.lower() == title.lower()].index[0]\n",
    "\n",
    "    # Get pairwise similarity scores of all movies with that movie\n",
    "    sim_scores = list(enumerate(cosine_sim[idx]))\n",
    "\n",
    "    # Sort movies based on similarity scores\n",
    "    sim_scores = sorted(sim_scores, key=lambda x: x[1], reverse=True)\n",
    "\n",
    "    # Get top 10 recommendations (excluding the movie itself)\n",
    "    sim_scores = sim_scores[1:11]\n",
    "\n",
    "    # Get movie indices\n",
    "    movie_indices = [i[0] for i in sim_scores]\n",
    "\n",
    "    # Return top 10 most similar movies\n",
    "    return movies['title'].iloc[movie_indices]\n",
    "\n",
    "@app.route('/')\n",
    "def home():\n",
    "    return render_template('home.html')\n",
    "\n",
    "@app.route('/recommend', methods=['POST'])\n",
    "def recommend():\n",
    "    movie = request.form['movie']\n",
    "    recommendations = get_recommendations(movie, cosine_sim)\n",
    "    return render_template('home.html', movie=movie, recommendations=recommendations)\n",
    "\n",
    "if __name__ == '__main__':\n",
    "    app.run(debug=True)\n"
   ]
  }
 ],
 "metadata": {
  "kernelspec": {
   "display_name": "Python 3",
   "language": "python",
   "name": "python3"
  },
  "language_info": {
   "codemirror_mode": {
    "name": "ipython",
    "version": 3
   },
   "file_extension": ".py",
   "mimetype": "text/x-python",
   "name": "python",
   "nbconvert_exporter": "python",
   "pygments_lexer": "ipython3",
   "version": "3.11.9"
  }
 },
 "nbformat": 4,
 "nbformat_minor": 2
}
